{
  "nbformat": 4,
  "nbformat_minor": 0,
  "metadata": {
    "colab": {
      "provenance": [],
      "authorship_tag": "ABX9TyMlmEkg011HpQ15BdgiQGfq",
      "include_colab_link": true
    },
    "kernelspec": {
      "name": "python3",
      "display_name": "Python 3"
    },
    "language_info": {
      "name": "python"
    }
  },
  "cells": [
    {
      "cell_type": "markdown",
      "metadata": {
        "id": "view-in-github",
        "colab_type": "text"
      },
      "source": [
        "<a href=\"https://colab.research.google.com/github/Aaka702/Machine-Learning/blob/main/numpyfunctions2.ipynb\" target=\"_parent\"><img src=\"https://colab.research.google.com/assets/colab-badge.svg\" alt=\"Open In Colab\"/></a>"
      ]
    },
    {
      "cell_type": "code",
      "execution_count": 2,
      "metadata": {
        "colab": {
          "base_uri": "https://localhost:8080/"
        },
        "id": "aNWeU2Rd--VR",
        "outputId": "62a7df8a-9712-4c15-fd72-1c7268b2d3ad"
      },
      "outputs": [
        {
          "output_type": "stream",
          "name": "stdout",
          "text": [
            "[[2. 3. 5.]\n",
            " [4. 3. 2.]\n",
            " [4. 3. 5.]]\n"
          ]
        }
      ],
      "source": [
        "#floor   to remove decimal portion, get previous integer\n",
        "#[[2.1,3.4,5.6]\n",
        "#[4.3,3.4,2.1]\n",
        "#[4.7,3.2,5.4]]\n",
        "import numpy as np\n",
        "a=np.array([[2.1,3.4,5.6],[4.3,3.4,2.1],[4.7,3.2,5.4]])\n",
        "z=np.floor(a)\n",
        "print(z)"
      ]
    },
    {
      "cell_type": "code",
      "source": [
        "#Ceil    get next integer\n",
        "\n",
        "y=np.ceil(a)\n",
        "print(y)"
      ],
      "metadata": {
        "colab": {
          "base_uri": "https://localhost:8080/"
        },
        "id": "2xonl8nr_CEV",
        "outputId": "04f58ff0-a43e-41fd-cb83-898238417776"
      },
      "execution_count": 3,
      "outputs": [
        {
          "output_type": "stream",
          "name": "stdout",
          "text": [
            "[[3. 4. 6.]\n",
            " [5. 4. 3.]\n",
            " [5. 4. 6.]]\n"
          ]
        }
      ]
    },
    {
      "cell_type": "code",
      "source": [
        "b=np.array([[2.1,3.4,5.6],[4.3,3.4,2.1],[4.7,3.2,5.4]])\n",
        "print(np.round(b))\n",
        "c=np.array([[1.5,2.5,3.5,4.5,5.5,6.5,7.5]])\n",
        "print(np.round(c))"
      ],
      "metadata": {
        "colab": {
          "base_uri": "https://localhost:8080/"
        },
        "id": "G0K-m2yb_C00",
        "outputId": "d4fda61e-2bda-487f-aa63-0568b0551052"
      },
      "execution_count": 4,
      "outputs": [
        {
          "output_type": "stream",
          "name": "stdout",
          "text": [
            "[[2. 3. 6.]\n",
            " [4. 3. 2.]\n",
            " [5. 3. 5.]]\n",
            "[[2. 2. 4. 4. 6. 6. 8.]]\n"
          ]
        }
      ]
    },
    {
      "cell_type": "code",
      "source": [
        "d=np.array([[3,4,5],[6,7,8],[1,2,9]])\n",
        "# 3 4 5\n",
        "# 6 7 8\n",
        "# 1 2 9\n",
        "\n",
        "#axis=1 row\n",
        "#axis=0 column\n",
        "\n",
        "print(d.max())\n",
        "print(d.min())\n",
        "print(\"Rowwise max element\",d.max(axis=1))\n",
        "print(\"Columnwise max element\",d.max(axis=0))\n",
        "print(\"Rowwise max element\",d.min(axis=1))\n",
        "print(\"Columnwise max element\",d.min(axis=0))"
      ],
      "metadata": {
        "colab": {
          "base_uri": "https://localhost:8080/"
        },
        "id": "2etJAYpq_Koc",
        "outputId": "1cf478d4-a99e-4619-d158-fb5e009fa164"
      },
      "execution_count": 5,
      "outputs": [
        {
          "output_type": "stream",
          "name": "stdout",
          "text": [
            "9\n",
            "1\n",
            "Rowwise max element [5 8 9]\n",
            "Columnwise max element [6 7 9]\n",
            "Rowwise max element [3 6 1]\n",
            "Columnwise max element [1 2 5]\n"
          ]
        }
      ]
    },
    {
      "cell_type": "code",
      "source": [
        "#flatten\n",
        "b=d.flatten()\n",
        "print(b)"
      ],
      "metadata": {
        "colab": {
          "base_uri": "https://localhost:8080/"
        },
        "id": "DHYJ6Dyt_NdE",
        "outputId": "04a6af41-d37b-4a6c-c9b9-c8953abc300c"
      },
      "execution_count": 6,
      "outputs": [
        {
          "output_type": "stream",
          "name": "stdout",
          "text": [
            "[3 4 5 6 7 8 1 2 9]\n"
          ]
        }
      ]
    },
    {
      "cell_type": "code",
      "source": [
        "#Sort\n",
        "a=np.array([1,4,6,3])\n",
        "b=np.sort(a)\n",
        "print(b)"
      ],
      "metadata": {
        "colab": {
          "base_uri": "https://localhost:8080/"
        },
        "id": "u4UezaQP_Pfk",
        "outputId": "0965a5f5-aa89-442f-afa1-2d5957e0dc60"
      },
      "execution_count": 7,
      "outputs": [
        {
          "output_type": "stream",
          "name": "stdout",
          "text": [
            "[1 3 4 6]\n"
          ]
        }
      ]
    },
    {
      "cell_type": "code",
      "source": [
        "f=np.array([[9,3,2],[1,8,6],[7,5,4]])\n",
        "# 9 3 2\n",
        "# 1 8 6\n",
        "# 7 5 4\n",
        "\n",
        "print(np.sort(f))   #row wise sort by defualt\n",
        "print(np.sort(f,axis=0))  #col wise sort"
      ],
      "metadata": {
        "colab": {
          "base_uri": "https://localhost:8080/"
        },
        "id": "10ACFcjG_QkN",
        "outputId": "85d3f319-71b2-441c-ef26-117ed4abc881"
      },
      "execution_count": 8,
      "outputs": [
        {
          "output_type": "stream",
          "name": "stdout",
          "text": [
            "[[2 3 9]\n",
            " [1 6 8]\n",
            " [4 5 7]]\n",
            "[[1 3 2]\n",
            " [7 5 4]\n",
            " [9 8 6]]\n"
          ]
        }
      ]
    },
    {
      "cell_type": "code",
      "source": [
        "e=np.array([[9,3,2],[1,8,6],[7,5,4]])\n",
        "print(np.argsort(e))\n",
        "\n",
        "\n",
        "print(np.argsort(e,axis=0))"
      ],
      "metadata": {
        "colab": {
          "base_uri": "https://localhost:8080/"
        },
        "id": "ftDNitcI_SU0",
        "outputId": "d8174644-9c8f-48a9-e597-cc75c3433f96"
      },
      "execution_count": 9,
      "outputs": [
        {
          "output_type": "stream",
          "name": "stdout",
          "text": [
            "[[2 1 0]\n",
            " [0 2 1]\n",
            " [2 1 0]]\n",
            "[[1 0 0]\n",
            " [2 2 2]\n",
            " [0 1 1]]\n"
          ]
        }
      ]
    },
    {
      "cell_type": "code",
      "source": [
        "#matrix addition\n",
        "a=np.array([[1,2],[3,4]])\n",
        "b=np.array([[3,4],[1,2]])\n",
        "print(a+b)"
      ],
      "metadata": {
        "colab": {
          "base_uri": "https://localhost:8080/"
        },
        "id": "xcyBTjZF_UKE",
        "outputId": "ff8fa18b-f680-4007-9cd4-451990a0c9cd"
      },
      "execution_count": 10,
      "outputs": [
        {
          "output_type": "stream",
          "name": "stdout",
          "text": [
            "[[4 6]\n",
            " [4 6]]\n"
          ]
        }
      ]
    },
    {
      "cell_type": "code",
      "source": [
        "#multiplication\n",
        "\n",
        "print(a.dot(b))"
      ],
      "metadata": {
        "colab": {
          "base_uri": "https://localhost:8080/"
        },
        "id": "-Ke8ylUY_V2T",
        "outputId": "1d0c3362-918e-4ca5-8f6f-d735bfafacae"
      },
      "execution_count": 11,
      "outputs": [
        {
          "output_type": "stream",
          "name": "stdout",
          "text": [
            "[[ 5  8]\n",
            " [13 20]]\n"
          ]
        }
      ]
    }
  ]
}